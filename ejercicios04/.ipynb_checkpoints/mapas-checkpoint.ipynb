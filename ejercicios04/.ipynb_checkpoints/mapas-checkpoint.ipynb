{
 "cells": [
  {
   "cell_type": "code",
   "execution_count": 5,
   "id": "22cc5316",
   "metadata": {},
   "outputs": [],
   "source": [
    "# !pip install ipyleaflet\n",
    "# jupyter nbextension enable --py --sys-prefix ipyleaflet"
   ]
  },
  {
   "cell_type": "code",
   "execution_count": 9,
   "id": "6c07768f",
   "metadata": {},
   "outputs": [
    {
     "data": {
      "application/vnd.jupyter.widget-view+json": {
       "model_id": "855f064d945e457ab2e86b8d8004a20f",
       "version_major": 2,
       "version_minor": 0
      },
      "text/plain": [
       "Map(center=[-34, -64], controls=(ZoomControl(options=['position', 'zoom_in_text', 'zoom_in_title', 'zoom_out_t…"
      ]
     },
     "metadata": {},
     "output_type": "display_data"
    }
   ],
   "source": [
    "from ipyleaflet import Map, MagnifyingGlass, basemaps, basemap_to_tiles, Marker\n",
    "\n",
    "center = (-34, -64)\n",
    "m = Map(center=center, zoom=9)\n",
    "marker = Marker(location=center, draggable=False)\n",
    "marker2 = Marker(location=(-2, -77.5), draggable=False)\n",
    "m.add_layer(marker); # punto en Argentina\n",
    "m.add_layer(marker2); #punto en Ecuador\n",
    "\n",
    "# m.add_layer(magnifying_glass)\n",
    "m"
   ]
  },
  {
   "cell_type": "code",
   "execution_count": null,
   "id": "fd3b1aa9",
   "metadata": {},
   "outputs": [],
   "source": []
  }
 ],
 "metadata": {
  "kernelspec": {
   "display_name": "Python 3",
   "language": "python",
   "name": "python3"
  },
  "language_info": {
   "codemirror_mode": {
    "name": "ipython",
    "version": 3
   },
   "file_extension": ".py",
   "mimetype": "text/x-python",
   "name": "python",
   "nbconvert_exporter": "python",
   "pygments_lexer": "ipython3",
   "version": "3.10.2"
  }
 },
 "nbformat": 4,
 "nbformat_minor": 5
}
